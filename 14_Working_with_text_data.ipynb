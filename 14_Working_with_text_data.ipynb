{
 "cells": [
  {
   "cell_type": "code",
   "execution_count": 46,
   "metadata": {},
   "outputs": [],
   "source": [
    "#Working with text data"
   ]
  },
  {
   "cell_type": "code",
   "execution_count": 47,
   "metadata": {},
   "outputs": [],
   "source": [
    "import sqlite3\n",
    "import pandas as pd \n",
    "import re"
   ]
  },
  {
   "cell_type": "code",
   "execution_count": 48,
   "metadata": {},
   "outputs": [
    {
     "name": "stdout",
     "output_type": "stream",
     "text": [
      "(4166,)\n"
     ]
    },
    {
     "data": {
      "text/plain": [
       "0    Strongly encouraging sign for us.  The T-Wolve...\n",
       "1    [My reaction.](http://4.bp.blogspot.com/-3ySob...\n",
       "2                     http://imgur.com/gallery/Zch2AWw\n",
       "3    Wolves have more talent than they ever had rig...\n",
       "4    Nah. Wigg is on the level of KG but where's ou...\n",
       "5           2004 was a pretty damn talented team dude.\n",
       "6                                                  :')\n",
       "7                                              *swoon*\n",
       "Name: body, dtype: object"
      ]
     },
     "execution_count": 48,
     "metadata": {},
     "output_type": "execute_result"
    }
   ],
   "source": [
    "sql_conn = sqlite3.connect(\"/Users/victormorenorequena/Desktop/Python_Youtube/database.sqlite\")\n",
    "comments = pd.read_sql(\"SELECT body FROM May2015 WHERE subreddit = 'timberwolves'\", sql_conn)\n",
    "comments = comments[\"body\"] #Convert DF to Series\n",
    "print(comments.shape)\n",
    "comments.head(8)"
   ]
  },
  {
   "cell_type": "code",
   "execution_count": 49,
   "metadata": {},
   "outputs": [
    {
     "data": {
      "text/plain": [
       "\"strongly encouraging sign for us.  the t-wolves management better not screw this up and they better surround wiggins with a championship caliber team to support his superstar potential or else i wouldn't want him to sour his prime years here in minnesota just like how i felt with garnett.\\n\\ntl;dr: wolves better not fuck this up.\""
      ]
     },
     "execution_count": 49,
     "metadata": {},
     "output_type": "execute_result"
    }
   ],
   "source": [
    "comments[0].lower()"
   ]
  },
  {
   "cell_type": "code",
   "execution_count": 50,
   "metadata": {},
   "outputs": [
    {
     "data": {
      "text/plain": [
       "0    STRONGLY ENCOURAGING SIGN FOR US.  THE T-WOLVE...\n",
       "1    [MY REACTION.](HTTP://4.BP.BLOGSPOT.COM/-3YSOB...\n",
       "2                     HTTP://IMGUR.COM/GALLERY/ZCH2AWW\n",
       "3    WOLVES HAVE MORE TALENT THAN THEY EVER HAD RIG...\n",
       "4    NAH. WIGG IS ON THE LEVEL OF KG BUT WHERE'S OU...\n",
       "5           2004 WAS A PRETTY DAMN TALENTED TEAM DUDE.\n",
       "6                                                  :')\n",
       "7                                              *SWOON*\n",
       "Name: body, dtype: object"
      ]
     },
     "execution_count": 50,
     "metadata": {},
     "output_type": "execute_result"
    }
   ],
   "source": [
    "comments.str.upper().head(8)"
   ]
  },
  {
   "cell_type": "code",
   "execution_count": 51,
   "metadata": {},
   "outputs": [
    {
     "data": {
      "text/plain": [
       "0    329\n",
       "1    101\n",
       "2     32\n",
       "3     53\n",
       "4    145\n",
       "5     42\n",
       "6      3\n",
       "7      7\n",
       "Name: body, dtype: int64"
      ]
     },
     "execution_count": 51,
     "metadata": {},
     "output_type": "execute_result"
    }
   ],
   "source": [
    "comments.str.len().head(8)"
   ]
  },
  {
   "cell_type": "code",
   "execution_count": 52,
   "metadata": {},
   "outputs": [
    {
     "data": {
      "text/plain": [
       "0    [Strongly, encouraging, sign, for, us., , The,...\n",
       "1    [[My, reaction.](http://4.bp.blogspot.com/-3yS...\n",
       "2                   [http://imgur.com/gallery/Zch2AWw]\n",
       "3    [Wolves, have, more, talent, than, they, ever,...\n",
       "4    [Nah., Wigg, is, on, the, level, of, KG, but, ...\n",
       "5    [2004, was, a, pretty, damn, talented, team, d...\n",
       "6                                                [:')]\n",
       "7                                            [*swoon*]\n",
       "Name: body, dtype: object"
      ]
     },
     "execution_count": 52,
     "metadata": {},
     "output_type": "execute_result"
    }
   ],
   "source": [
    "comments.str.split(\" \").head(8)"
   ]
  },
  {
   "cell_type": "code",
   "execution_count": 53,
   "metadata": {},
   "outputs": [
    {
     "data": {
      "text/plain": [
       "0    Strongly encouraging sign for us.  The T-Wolve...\n",
       "1    My reaction.](http://4.bp.blogspot.com/-3ySobv...\n",
       "2                     http://imgur.com/gallery/Zch2AWw\n",
       "3    Wolves have more talent than they ever had rig...\n",
       "4    Nah. Wigg is on the level of KG but where's ou...\n",
       "5           2004 was a pretty damn talented team dude.\n",
       "6                                                  :')\n",
       "7                                              *swoon*\n",
       "Name: body, dtype: object"
      ]
     },
     "execution_count": 53,
     "metadata": {},
     "output_type": "execute_result"
    }
   ],
   "source": [
    "comments.str.strip(\"[]\").head(8)"
   ]
  },
  {
   "cell_type": "code",
   "execution_count": 54,
   "metadata": {},
   "outputs": [
    {
     "data": {
      "text/plain": [
       "\"Strongly encouraging sign for us.  The T-Wolves management better not screw this up and they better surround Wiggins with a championship caliber team to support his superstar potential or else I wouldn't want him to sour his prime years here in Minnesota just like how I felt with Garnett.\\n\\nTL;DR: Wolves better not fuck this up.[My reaction.](http://4.bp.blogspot.com/-3ySobv38ihc/U6yxpPwsbzI/AAAAAAAAIPo/IO8Z_wbTIVQ/s1600/2.gif)http://imgur.com/gallery/Zch2AWwWolves have more talent than they ever\""
      ]
     },
     "execution_count": 54,
     "metadata": {},
     "output_type": "execute_result"
    }
   ],
   "source": [
    "comments.str.cat()[0:500]"
   ]
  },
  {
   "cell_type": "code",
   "execution_count": 55,
   "metadata": {},
   "outputs": [
    {
     "data": {
      "text/plain": [
       "0    Strongly e\n",
       "1    [My reacti\n",
       "2    http://img\n",
       "3    Wolves hav\n",
       "4    Nah. Wigg \n",
       "5    2004 was a\n",
       "6           :')\n",
       "7       *swoon*\n",
       "Name: body, dtype: object"
      ]
     },
     "execution_count": 55,
     "metadata": {},
     "output_type": "execute_result"
    }
   ],
   "source": [
    "comments.str.slice(0, 10).head(8)"
   ]
  },
  {
   "cell_type": "code",
   "execution_count": 56,
   "metadata": {},
   "outputs": [
    {
     "data": {
      "text/plain": [
       "0    Stron Wolves Rule! ncouraging sign for us.  Th...\n",
       "1    [My r Wolves Rule! on.](http://4.bp.blogspot.c...\n",
       "2            http: Wolves Rule! ur.com/gallery/Zch2AWw\n",
       "3    Wolve Wolves Rule! e more talent than they eve...\n",
       "4    Nah.  Wolves Rule! is on the level of KG but w...\n",
       "5    2004  Wolves Rule!  pretty damn talented team ...\n",
       "6                                    :') Wolves Rule! \n",
       "7                                  *swoo Wolves Rule! \n",
       "Name: body, dtype: object"
      ]
     },
     "execution_count": 56,
     "metadata": {},
     "output_type": "execute_result"
    }
   ],
   "source": [
    "comments.str.slice_replace(5, 10, \" Wolves Rule! \").head(8)"
   ]
  },
  {
   "cell_type": "code",
   "execution_count": 57,
   "metadata": {},
   "outputs": [
    {
     "data": {
      "text/plain": [
       "0    Strongly encouraging sign for us.  The T-Pups ...\n",
       "1    [My reaction.](http://4.bp.blogspot.com/-3ySob...\n",
       "2                     http://imgur.com/gallery/Zch2AWw\n",
       "3    Pups have more talent than they ever had right...\n",
       "4    Nah. Wigg is on the level of KG but where's ou...\n",
       "5           2004 was a pretty damn talented team dude.\n",
       "6                                                  :')\n",
       "7                                              *swoon*\n",
       "Name: body, dtype: object"
      ]
     },
     "execution_count": 57,
     "metadata": {},
     "output_type": "execute_result"
    }
   ],
   "source": [
    "comments.str.replace(\"Wolves\", \"Pups\").head(8)"
   ]
  },
  {
   "cell_type": "code",
   "execution_count": 58,
   "metadata": {},
   "outputs": [
    {
     "data": {
      "text/plain": [
       "0     Strongly encouraging sign for us.  The T-Wolve...\n",
       "4     Nah. Wigg is on the level of KG but where's ou...\n",
       "9                            I FUCKING LOVE YOU ANDREW \n",
       "10                                   I LOVE YOU WIGGINS\n",
       "33    Yupiii!!!!!! Great Wiggins celebration!!!!! =D...\n",
       "44                         Wiggins on the level of KG?!\n",
       "45    I'm comfortable with saying that Wiggins is as...\n",
       "62       They seem so Wiggins. Did he help design them?\n",
       "63    The more I think about this the more I can und...\n",
       "64    I dig these a lot. Like the AW logo too with t...\n",
       "Name: body, dtype: object"
      ]
     },
     "execution_count": 58,
     "metadata": {},
     "output_type": "execute_result"
    }
   ],
   "source": [
    "logical_index = comments.str.lower().str.contains(\"wigg|drew\")\n",
    "comments[logical_index].head(10)"
   ]
  },
  {
   "cell_type": "code",
   "execution_count": 59,
   "metadata": {},
   "outputs": [
    {
     "data": {
      "text/plain": [
       "0.06649063850216035"
      ]
     },
     "execution_count": 59,
     "metadata": {},
     "output_type": "execute_result"
    }
   ],
   "source": [
    "len(comments[logical_index])/len(comments)"
   ]
  },
  {
   "cell_type": "code",
   "execution_count": 60,
   "metadata": {},
   "outputs": [],
   "source": [
    "#Regular expreessions"
   ]
  },
  {
   "cell_type": "code",
   "execution_count": 61,
   "metadata": {},
   "outputs": [
    {
     "data": {
      "text/plain": [
       "0     True\n",
       "1     True\n",
       "2     True\n",
       "3     True\n",
       "4    False\n",
       "dtype: bool"
      ]
     },
     "execution_count": 61,
     "metadata": {},
     "output_type": "execute_result"
    }
   ],
   "source": [
    "my_series = pd.Series([\"Will\", \"bill\", \"Till\", \"still\", \"gull\"])\n",
    "my_series.str.contains(\".ill\")#match any substring ending in ill"
   ]
  },
  {
   "cell_type": "code",
   "execution_count": 62,
   "metadata": {},
   "outputs": [
    {
     "data": {
      "text/plain": [
       "0    False\n",
       "1    False\n",
       "2     True\n",
       "3     True\n",
       "4    False\n",
       "dtype: bool"
      ]
     },
     "execution_count": 62,
     "metadata": {},
     "output_type": "execute_result"
    }
   ],
   "source": [
    "my_series.str.contains(\"[Tt]ill\")"
   ]
  },
  {
   "cell_type": "code",
   "execution_count": 63,
   "metadata": {},
   "outputs": [],
   "source": [
    "#Regular expressions include several special character sets that allow to quickly specify certain common character types. They include:\n",
    "#[a-z] - match any lowercase letter \n",
    "#[A-Z] - match any uppercase letter \n",
    "#[0-9] - match any digit \n",
    "#[a-zA-Z0-9] - match any letter or digit\n",
    "#Adding the \"^\" symbol inside the square brackets matches any characters NOT in the set:\n",
    "#[^a-z] - match any character that is not a lowercase letter \n",
    "#[^A-Z] - match any character that is not a uppercase letter \n",
    "#[^0-9] - match any character that is not a digit \n",
    "#[^a-zA-Z0-9] - match any character that is not a letter or digit\n",
    "#Python regular expressions also include a shorthand for specifying common sequences:\n",
    "#\\d - match any digit \n",
    "#\\D - match any non digit \n",
    "#\\w - match a word character\n",
    "#\\W - match a non-word character \n",
    "#\\s - match whitespace (spaces, tabs, newlines, etc.) \n",
    "#\\S - match non-whitespace\n",
    "#\"^\" - outside of square brackets, the caret symbol searches for matches at the beginning of a string:"
   ]
  },
  {
   "cell_type": "code",
   "execution_count": 64,
   "metadata": {},
   "outputs": [
    {
     "name": "stderr",
     "output_type": "stream",
     "text": [
      "/var/folders/kb/h9wsq_hn6g5d4ydm0rf0fqk80000gn/T/ipykernel_10522/4038955207.py:2: UserWarning: This pattern is interpreted as a regular expression, and has match groups. To actually get the groups, use str.extract.\n",
      "  ex_str1.str.contains(\"^(He|he)\")\n"
     ]
    },
    {
     "data": {
      "text/plain": [
       "0    False\n",
       "1     True\n",
       "2     True\n",
       "dtype: bool"
      ]
     },
     "execution_count": 64,
     "metadata": {},
     "output_type": "execute_result"
    }
   ],
   "source": [
    "ex_str1 = pd.Series([\"Where did he go\", \"He went to the mall\", \"he is good\"])\n",
    "ex_str1.str.contains(\"^(He|he)\")"
   ]
  },
  {
   "cell_type": "code",
   "execution_count": 65,
   "metadata": {},
   "outputs": [],
   "source": [
    "#\"( )\" - parentheses in regular expressions are used for grouping and to enforce the proper order of operations just like they are in math and logical expressions. In the examples above, the parentheses let us group the or expressions so that the \"^\" and \"$\" symbols operate on the entire or statement.\n",
    "#\"*\" - an asterisk matches zero or more copies of the preceding character\n",
    "#\"?\" - a question mark matches zero or 1 copy of the preceding character\n",
    "#\"+\" - a plus matches 1 more copies of the preceding character"
   ]
  },
  {
   "cell_type": "code",
   "execution_count": 66,
   "metadata": {},
   "outputs": [
    {
     "data": {
      "text/plain": [
       "0     True\n",
       "1    False\n",
       "2    False\n",
       "3     True\n",
       "4     True\n",
       "dtype: bool"
      ]
     },
     "execution_count": 66,
     "metadata": {},
     "output_type": "execute_result"
    }
   ],
   "source": [
    "ex_str2 = pd.Series([\"Abdominal\", \"b\", \"aa\", \"abbcc\", \"aba\"])\n",
    "#match 0 or more a's, a single b, then 1 or more characters.\n",
    "ex_str2.str.contains(\"a*b.+\")"
   ]
  },
  {
   "cell_type": "code",
   "execution_count": 67,
   "metadata": {},
   "outputs": [],
   "source": [
    "#\"{ }\" - curly braces match a preceding character for a specified number of repetitions:\n",
    "#\"{m}\" - the preceding element is matched m times\n",
    "#\"{m,}\" - the preceding element is matched m times or more\n",
    "#\"{m,n}\" - the preceding element is matched between m and n times"
   ]
  },
  {
   "cell_type": "code",
   "execution_count": 68,
   "metadata": {},
   "outputs": [
    {
     "data": {
      "text/plain": [
       "0    False\n",
       "1    False\n",
       "2    False\n",
       "3     True\n",
       "dtype: bool"
      ]
     },
     "execution_count": 68,
     "metadata": {},
     "output_type": "execute_result"
    }
   ],
   "source": [
    "ex_str3 = pd.Series([\"aabcbcb\", \"abbb\", \"abbaab\", \"aabb\"])\n",
    "ex_str3.str.contains(\"a{2}b{2,}\")"
   ]
  },
  {
   "cell_type": "code",
   "execution_count": 69,
   "metadata": {},
   "outputs": [
    {
     "name": "stderr",
     "output_type": "stream",
     "text": [
      "<>:1: SyntaxWarning: invalid escape sequence '\\M'\n",
      "<>:2: SyntaxWarning: invalid escape sequence '\\.'\n",
      "<>:1: SyntaxWarning: invalid escape sequence '\\M'\n",
      "<>:2: SyntaxWarning: invalid escape sequence '\\.'\n",
      "/var/folders/kb/h9wsq_hn6g5d4ydm0rf0fqk80000gn/T/ipykernel_10522/1857581515.py:1: SyntaxWarning: invalid escape sequence '\\M'\n",
      "  ex_str4 =pd.Series([\"Mr. Ed\", \"Dr. Mario\", \"Miss\\Mrs Granger.\"])\n",
      "/var/folders/kb/h9wsq_hn6g5d4ydm0rf0fqk80000gn/T/ipykernel_10522/1857581515.py:2: SyntaxWarning: invalid escape sequence '\\.'\n",
      "  ex_str4.str.contains(\"\\. \") #Match a single period and then a space\n"
     ]
    },
    {
     "data": {
      "text/plain": [
       "0     True\n",
       "1     True\n",
       "2    False\n",
       "dtype: bool"
      ]
     },
     "execution_count": 69,
     "metadata": {},
     "output_type": "execute_result"
    }
   ],
   "source": [
    "ex_str4 =pd.Series([\"Mr. Ed\", \"Dr. Mario\", \"Miss\\Mrs Granger.\"])\n",
    "ex_str4.str.contains(\"\\. \") #Match a single period and then a space\n"
   ]
  },
  {
   "cell_type": "code",
   "execution_count": 70,
   "metadata": {},
   "outputs": [
    {
     "data": {
      "text/plain": [
       "0    False\n",
       "1    False\n",
       "2     True\n",
       "dtype: bool"
      ]
     },
     "execution_count": 70,
     "metadata": {},
     "output_type": "execute_result"
    }
   ],
   "source": [
    "ex_str4.str.contains(\"\\\\\\\\\") "
   ]
  },
  {
   "cell_type": "code",
   "execution_count": 71,
   "metadata": {},
   "outputs": [
    {
     "data": {
      "text/plain": [
       "0    False\n",
       "1    False\n",
       "2     True\n",
       "dtype: bool"
      ]
     },
     "execution_count": 71,
     "metadata": {},
     "output_type": "execute_result"
    }
   ],
   "source": [
    "ex_str4.str.contains(r\"\\\\\") "
   ]
  },
  {
   "cell_type": "code",
   "execution_count": 72,
   "metadata": {},
   "outputs": [
    {
     "data": {
      "text/plain": [
       "0    2\n",
       "1    0\n",
       "2    0\n",
       "3    1\n",
       "4    0\n",
       "5    0\n",
       "6    0\n",
       "7    0\n",
       "Name: body, dtype: int64"
      ]
     },
     "execution_count": 72,
     "metadata": {},
     "output_type": "execute_result"
    }
   ],
   "source": [
    "comments.str.count(r\"[Ww]olves\").head(8)"
   ]
  },
  {
   "cell_type": "code",
   "execution_count": 73,
   "metadata": {},
   "outputs": [
    {
     "data": {
      "text/plain": [
       "0    [Wolves, Wolves]\n",
       "1                  []\n",
       "2                  []\n",
       "3            [Wolves]\n",
       "4                  []\n",
       "5                  []\n",
       "6                  []\n",
       "7                  []\n",
       "Name: body, dtype: object"
      ]
     },
     "execution_count": 73,
     "metadata": {},
     "output_type": "execute_result"
    }
   ],
   "source": [
    "comments.str.findall(r\"[Ww]olves\").head(8)"
   ]
  },
  {
   "cell_type": "code",
   "execution_count": 74,
   "metadata": {},
   "outputs": [
    {
     "name": "stdout",
     "output_type": "stream",
     "text": [
      "216\n"
     ]
    },
    {
     "data": {
      "text/plain": [
       "1     [My reaction.](http://4.bp.blogspot.com/-3ySob...\n",
       "2                      http://imgur.com/gallery/Zch2AWw\n",
       "25    [January 4th, 2005 - 47 Pts, 17 Rebs](https://...\n",
       "29    [You're right.](http://espn.go.com/nba/noteboo...\n",
       "34    https://www.youtube.com/watch?v=K1VtZht_8t4\\n\\...\n",
       "40    [You son of a bitch...](https://www.youtube.co...\n",
       "69    https://instagram.com/p/2HWfB3o8rK/\\n\\nThe map...\n",
       "76    [Part 2](https://www.youtube.com/watch?v=524h4...\n",
       "Name: body, dtype: object"
      ]
     },
     "execution_count": 74,
     "metadata": {},
     "output_type": "execute_result"
    }
   ],
   "source": [
    "web_links = comments.str.contains(r\"https?:\")\n",
    "posts_with_links = comments[web_links]\n",
    "print(len(posts_with_links))\n",
    "posts_with_links.head(8)"
   ]
  },
  {
   "cell_type": "code",
   "execution_count": 77,
   "metadata": {},
   "outputs": [
    {
     "name": "stdout",
     "output_type": "stream",
     "text": [
      "216\n"
     ]
    },
    {
     "data": {
      "text/plain": [
       "1     [http://4.bp.blogspot.com/-3ySobv38ihc/U6yxpPw...\n",
       "2                    [http://imgur.com/gallery/Zch2AWw]\n",
       "25    [https://www.youtube.com/watch?v=iLRsJ9gcW0Y, ...\n",
       "29    [http://espn.go.com/nba/notebook/_/page/ROY141...\n",
       "34        [https://www.youtube.com/watch?v=K1VtZht_8t4]\n",
       "40        [https://www.youtube.com/watch?v=mFEzW1Z6TRM]\n",
       "69                [https://instagram.com/p/2HWfB3o8rK/]\n",
       "76    [https://www.youtube.com/watch?v=524h48CWlMc&a...\n",
       "93                     [http://i.imgur.com/OrjShZv.jpg]\n",
       "95    [http://content.sportslogos.net/logos/6/232/fu...\n",
       "Name: body, dtype: object"
      ]
     },
     "execution_count": 77,
     "metadata": {},
     "output_type": "execute_result"
    }
   ],
   "source": [
    "only_links = posts_with_links.str.findall(r\"https?:[^\\n\\)]+\")\n",
    "print(len(only_links))\n",
    "only_links.head(10)"
   ]
  },
  {
   "cell_type": "code",
   "execution_count": null,
   "metadata": {},
   "outputs": [],
   "source": []
  }
 ],
 "metadata": {
  "kernelspec": {
   "display_name": "Python 3",
   "language": "python",
   "name": "python3"
  },
  "language_info": {
   "codemirror_mode": {
    "name": "ipython",
    "version": 3
   },
   "file_extension": ".py",
   "mimetype": "text/x-python",
   "name": "python",
   "nbconvert_exporter": "python",
   "pygments_lexer": "ipython3",
   "version": "3.12.0"
  }
 },
 "nbformat": 4,
 "nbformat_minor": 2
}
