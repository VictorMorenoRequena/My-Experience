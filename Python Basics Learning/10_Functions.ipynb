{
 "cells": [
  {
   "cell_type": "code",
   "execution_count": 26,
   "metadata": {},
   "outputs": [],
   "source": [
    "#Functions"
   ]
  },
  {
   "cell_type": "code",
   "execution_count": 27,
   "metadata": {},
   "outputs": [],
   "source": [
    "def my_function ():\n",
    "    print(\"Esto es una función\")"
   ]
  },
  {
   "cell_type": "code",
   "execution_count": 28,
   "metadata": {},
   "outputs": [
    {
     "name": "stdout",
     "output_type": "stream",
     "text": [
      "Esto es una función\n"
     ]
    }
   ],
   "source": [
    "my_function()"
   ]
  },
  {
   "cell_type": "code",
   "execution_count": 29,
   "metadata": {},
   "outputs": [
    {
     "name": "stdout",
     "output_type": "stream",
     "text": [
      "12\n"
     ]
    }
   ],
   "source": [
    "def sum_two_values(a,b):\n",
    "    print(a + b)\n",
    "\n",
    "\n",
    "sum_two_values(5,7)\n",
    "\n"
   ]
  },
  {
   "cell_type": "code",
   "execution_count": 31,
   "metadata": {},
   "outputs": [
    {
     "name": "stdout",
     "output_type": "stream",
     "text": [
      "15\n"
     ]
    }
   ],
   "source": [
    "def sum_two_values_with_return(a,b):\n",
    "    return a  + b\n",
    "\n",
    "my_result = sum_two_values_with_return(10, 5)\n",
    "print(my_result)\n",
    "\n",
    "\n",
    "\n"
   ]
  },
  {
   "cell_type": "code",
   "execution_count": 36,
   "metadata": {},
   "outputs": [
    {
     "name": "stdout",
     "output_type": "stream",
     "text": [
      "Moreno Victor\n"
     ]
    }
   ],
   "source": [
    "def print_name(name, last):\n",
    "    print(f\"{name} {last}\")\n",
    "\n",
    "print_name(last = \"Victor\", name = \"Moreno\")"
   ]
  },
  {
   "cell_type": "code",
   "execution_count": 43,
   "metadata": {},
   "outputs": [
    {
     "name": "stdout",
     "output_type": "stream",
     "text": [
      "Victor Moreno Vic\n"
     ]
    }
   ],
   "source": [
    "def print_name_with_default(name, last, alias = \"Sin alias\"):\n",
    "    print(f\"{name} {last} {alias}\")\n",
    "\n",
    "print_name_with_default(\"Victor\", \"Moreno\",\"Vic\")"
   ]
  },
  {
   "cell_type": "code",
   "execution_count": 51,
   "metadata": {},
   "outputs": [
    {
     "name": "stdout",
     "output_type": "stream",
     "text": [
      "HOLA\n",
      "PYTHON\n",
      "VIC\n",
      "SAPO\n"
     ]
    }
   ],
   "source": [
    "def print_texts(*texts):\n",
    "    for text in texts:\n",
    "        print(text.upper())\n",
    "\n",
    "print_texts(\"Hola\", \"Python\", \"Vic\", \"sapo\")"
   ]
  }
 ],
 "metadata": {
  "kernelspec": {
   "display_name": "Python 3",
   "language": "python",
   "name": "python3"
  },
  "language_info": {
   "codemirror_mode": {
    "name": "ipython",
    "version": 3
   },
   "file_extension": ".py",
   "mimetype": "text/x-python",
   "name": "python",
   "nbconvert_exporter": "python",
   "pygments_lexer": "ipython3",
   "version": "3.12.0"
  }
 },
 "nbformat": 4,
 "nbformat_minor": 2
}
