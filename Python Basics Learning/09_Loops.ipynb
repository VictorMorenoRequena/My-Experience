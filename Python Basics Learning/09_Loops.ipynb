{
 "cells": [
  {
   "cell_type": "code",
   "execution_count": 136,
   "metadata": {},
   "outputs": [],
   "source": [
    "#loops"
   ]
  },
  {
   "cell_type": "code",
   "execution_count": 137,
   "metadata": {},
   "outputs": [],
   "source": [
    "#While, for, dowhile"
   ]
  },
  {
   "cell_type": "code",
   "execution_count": 138,
   "metadata": {},
   "outputs": [],
   "source": [
    "my_condition = 0"
   ]
  },
  {
   "cell_type": "code",
   "execution_count": 139,
   "metadata": {},
   "outputs": [
    {
     "name": "stdout",
     "output_type": "stream",
     "text": [
      "0\n",
      "2\n",
      "4\n",
      "6\n",
      "8\n",
      "mi condicion es mayor o igual que 10\n",
      "la ejecucion continua\n",
      "11\n",
      "12\n",
      "13\n",
      "14\n",
      "Se detiene la ejecuión\n",
      "la ejecución continua\n"
     ]
    }
   ],
   "source": [
    "while my_condition < 10:\n",
    "    print(my_condition)\n",
    "    my_condition += 2\n",
    "else:\n",
    "    print(\"mi condicion es mayor o igual que 10\")\n",
    "\n",
    "print(\"la ejecucion continua\")\n",
    "\n",
    "while my_condition < 20:\n",
    "    my_condition +=1\n",
    "    \n",
    "    if my_condition == 15:\n",
    "\n",
    "        print(\"Se detiene la ejecuión\")\n",
    "        break\n",
    "    print(my_condition)\n",
    "print(\"la ejecución continua\")\n",
    "\n"
   ]
  },
  {
   "cell_type": "code",
   "execution_count": 140,
   "metadata": {},
   "outputs": [],
   "source": [
    "#For"
   ]
  },
  {
   "cell_type": "code",
   "execution_count": 141,
   "metadata": {},
   "outputs": [
    {
     "name": "stdout",
     "output_type": "stream",
     "text": [
      "35\n",
      "24\n",
      "62\n",
      "52\n",
      "30\n",
      "30\n",
      "17\n",
      "12\n",
      "1.2\n",
      "Hass\n",
      "lopez\n",
      "1.77\n",
      "Moreno\n",
      "Victor\n",
      "23\n",
      "Vic\n",
      "Nombre\n",
      "Se ejecuta\n",
      "Apellido\n",
      "Se ejecuta\n",
      "Edad\n",
      "1\n",
      "Se ejecuta\n",
      "El bucle for para mi diccionario ha finalizado\n",
      "La ejecución continua\n"
     ]
    }
   ],
   "source": [
    "my_list =[35, 24, 62, 52, 30, 30, 17]\n",
    "for element in my_list:\n",
    "    print(element)\n",
    "\n",
    "\n",
    "my_tuple = (12, 1.2, 'Hass', 'lopez')\n",
    "for element in my_tuple:\n",
    "    print(element)\n",
    "\n",
    "my_set = {23, 1.77, 'Victor', 'Moreno', \"Vic\"}\n",
    "for element in my_set:\n",
    "    print(element)\n",
    "my_dict = {'Nombre': 'Victor', 'Apellido': 'Moreno', 'Edad':23, 1:'Python'}\n",
    "\n",
    "for element in my_dict:\n",
    "    print(element)\n",
    "    if element == \"Edad\":\n",
    "        continue\n",
    "    else:\n",
    "        print(\"Se ejecuta\")\n",
    "\n",
    "else:\n",
    "    print(\"El bucle for para mi diccionario ha finalizado\")\n",
    "    \n",
    "print('La ejecución continua')\n"
   ]
  }
 ],
 "metadata": {
  "kernelspec": {
   "display_name": "Python 3",
   "language": "python",
   "name": "python3"
  },
  "language_info": {
   "codemirror_mode": {
    "name": "ipython",
    "version": 3
   },
   "file_extension": ".py",
   "mimetype": "text/x-python",
   "name": "python",
   "nbconvert_exporter": "python",
   "pygments_lexer": "ipython3",
   "version": "3.12.0"
  }
 },
 "nbformat": 4,
 "nbformat_minor": 2
}
