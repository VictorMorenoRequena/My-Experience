{
 "cells": [
  {
   "cell_type": "code",
   "execution_count": 128,
   "metadata": {},
   "outputs": [],
   "source": [
    "#Classes"
   ]
  },
  {
   "cell_type": "code",
   "execution_count": 129,
   "metadata": {},
   "outputs": [
    {
     "name": "stdout",
     "output_type": "stream",
     "text": [
      "<class '__main__.MyEmptyPerson'>\n"
     ]
    }
   ],
   "source": [
    "class MyEmptyPerson:\n",
    "    pass \n",
    "\n",
    "print(MyEmptyPerson)\n"
   ]
  },
  {
   "cell_type": "code",
   "execution_count": 130,
   "metadata": {},
   "outputs": [],
   "source": [
    "#class Person:\n",
    "#   def __init__(self, name, surname): \n",
    "#        self.name = name\n",
    "#       self.surname = surname\n"
   ]
  },
  {
   "cell_type": "code",
   "execution_count": 132,
   "metadata": {},
   "outputs": [
    {
     "name": "stdout",
     "output_type": "stream",
     "text": [
      "Victor Moreno (Sin alias) \n",
      "Victor Moreno (Sin alias)  está caminando\n",
      "Victor Moreno (vic) \n",
      "Victor Moreno (vic)  está caminando\n",
      "Hector de Leon (El loco de los perros)\n"
     ]
    }
   ],
   "source": [
    "class Person:\n",
    "    def __init__(self, name, surname, alias = \"Sin alias\"): \n",
    "        self.full_name = f\"{name} {surname} ({alias}) \"\n",
    "  \n",
    "    def walk(self):\n",
    "        print(f\"{self.full_name} está caminando\")\n",
    "\n",
    "my_person = Person(\"Victor\", \"Moreno\")\n",
    "print(my_person.full_name)\n",
    "my_person.walk()\n",
    "\n",
    "my_other_person = Person(\"Victor\", \"Moreno\", \"vic\")\n",
    "print(my_other_person.full_name)\n",
    "my_other_person.walk()\n",
    "my_other_person.full_name = \"Hector de Leon (El loco de los perros)\"\n",
    "print(my_other_person.full_name)\n"
   ]
  },
  {
   "cell_type": "code",
   "execution_count": null,
   "metadata": {},
   "outputs": [],
   "source": [
    "\n"
   ]
  }
 ],
 "metadata": {
  "kernelspec": {
   "display_name": "Python 3",
   "language": "python",
   "name": "python3"
  },
  "language_info": {
   "codemirror_mode": {
    "name": "ipython",
    "version": 3
   },
   "file_extension": ".py",
   "mimetype": "text/x-python",
   "name": "python",
   "nbconvert_exporter": "python",
   "pygments_lexer": "ipython3",
   "version": "3.12.0"
  }
 },
 "nbformat": 4,
 "nbformat_minor": 2
}
