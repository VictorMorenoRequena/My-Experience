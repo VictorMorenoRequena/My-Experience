{
 "cells": [
  {
   "cell_type": "code",
   "execution_count": 168,
   "metadata": {},
   "outputs": [],
   "source": [
    "#Exceptions Handling"
   ]
  },
  {
   "cell_type": "code",
   "execution_count": 169,
   "metadata": {},
   "outputs": [],
   "source": [
    "numberOne = 5\n",
    "numberTwo = 1"
   ]
  },
  {
   "cell_type": "code",
   "execution_count": 170,
   "metadata": {},
   "outputs": [
    {
     "name": "stdout",
     "output_type": "stream",
     "text": [
      "Se ha producido un error\n"
     ]
    }
   ],
   "source": [
    "numberTwo = \"1\"  #Evitar el error\n",
    "\n",
    "try:\n",
    "    print(numberOne + numberTwo)\n",
    "    print(\"No se ha producido error\")\n",
    "except:\n",
    "    print(\"Se ha producido un error\")   \n"
   ]
  },
  {
   "cell_type": "code",
   "execution_count": 171,
   "metadata": {},
   "outputs": [
    {
     "name": "stdout",
     "output_type": "stream",
     "text": [
      "Se ha producido un TypeError\n",
      "La ejecución continua\n"
     ]
    }
   ],
   "source": [
    "#Try except else\n",
    "numberOne = 5\n",
    "numberTwo = \"1\"\n",
    "try:\n",
    "    print(numberOne + numberTwo)\n",
    "    print(\"No se ha producido error\")\n",
    "except ValueError:\n",
    "    print(\"Se ha producido un ValueError\")\n",
    "except TypeError:\n",
    "    print(\"Se ha producido un TypeError\")    \n",
    "else:  #opcional\n",
    "    print(\"La ejecución continua correctamente\")\n",
    "finally: #se ejectua siempre, opcional\n",
    "    print(\"La ejecución continua\")\n"
   ]
  },
  {
   "cell_type": "code",
   "execution_count": 172,
   "metadata": {},
   "outputs": [
    {
     "name": "stdout",
     "output_type": "stream",
     "text": [
      "error\n",
      "La ejecución continua\n"
     ]
    }
   ],
   "source": [
    "#Try except else\n",
    "numberOne = 5\n",
    "numberTwo = \"1\"\n",
    "try:\n",
    "    print(numberOne + numberTwo)\n",
    "    print(\"No se ha producido error\")\n",
    "except ValueError as error:\n",
    "    print(\"error\")\n",
    "except TypeError as error:\n",
    "    print(\"error\")    \n",
    "else:  #opcional\n",
    "    print(\"La ejecución continua correctamente\")\n",
    "finally: #se ejectua siempre, opcional\n",
    "    print(\"La ejecución continua\")"
   ]
  },
  {
   "cell_type": "code",
   "execution_count": 173,
   "metadata": {},
   "outputs": [
    {
     "name": "stdout",
     "output_type": "stream",
     "text": [
      "TypeError\n",
      "La ejecución continua\n"
     ]
    }
   ],
   "source": [
    "#Try except else\n",
    "numberOne = 5\n",
    "numberTwo = \"1\"\n",
    "try:\n",
    "    print(numberOne + numberTwo)\n",
    "    print(\"No se ha producido error\")\n",
    "except TypeError as error:\n",
    "    print(\"TypeError\")\n",
    "except Exception as exceptionerror:\n",
    "    print(exceptionerror)    \n",
    "else:  #opcional\n",
    "    print(\"La ejecución continua correctamente\")\n",
    "finally: #se ejectua siempre, opcional\n",
    "    print(\"La ejecución continua\")"
   ]
  },
  {
   "cell_type": "code",
   "execution_count": 174,
   "metadata": {},
   "outputs": [
    {
     "name": "stdout",
     "output_type": "stream",
     "text": [
      "unsupported operand type(s) for +: 'int' and 'str'\n",
      "La ejecución continua\n"
     ]
    }
   ],
   "source": [
    "#Try except else\n",
    "numberOne = 5\n",
    "numberTwo = \"1\"\n",
    "try:\n",
    "    print(numberOne + numberTwo)\n",
    "    print(\"No se ha producido error\")\n",
    "except ValueError as error:\n",
    "    print(\"TypeError\")\n",
    "except Exception as exceptionError:\n",
    "    print(exceptionError)    \n",
    "else:  #opcional\n",
    "    print(\"La ejecución continua correctamente\")\n",
    "finally: #se ejectua siempre, opcional\n",
    "    print(\"La ejecución continua\")"
   ]
  }
 ],
 "metadata": {
  "kernelspec": {
   "display_name": "Python 3",
   "language": "python",
   "name": "python3"
  },
  "language_info": {
   "codemirror_mode": {
    "name": "ipython",
    "version": 3
   },
   "file_extension": ".py",
   "mimetype": "text/x-python",
   "name": "python",
   "nbconvert_exporter": "python",
   "pygments_lexer": "ipython3",
   "version": "3.12.0"
  }
 },
 "nbformat": 4,
 "nbformat_minor": 2
}
